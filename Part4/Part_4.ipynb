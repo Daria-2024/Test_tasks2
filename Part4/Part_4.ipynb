{
 "cells": [
  {
   "cell_type": "markdown",
   "id": "1be91988-1e75-4eff-a091-7d255386d669",
   "metadata": {},
   "source": [
    "# Часть 4. Excel/Python на выбор"
   ]
  },
  {
   "cell_type": "markdown",
   "id": "c2a84198-351b-408b-90d6-43a1aa56baa5",
   "metadata": {},
   "source": [
    "<div style=\"border:solid black 2px; padding: 20px\">\n",
    "\n",
    "Работа с таблицами:\n",
    "* t_products\n",
    "* t_whs\n",
    "* t_sale\n",
    "\n",
    "</div>"
   ]
  },
  {
   "cell_type": "markdown",
   "id": "46df3e8c-babb-404b-a630-004d45c6e926",
   "metadata": {},
   "source": [
    "<div style=\"border:solid black 2px; padding: 20px\">\n",
    "\n",
    "## Загрузка данных.\n",
    "\n",
    "</div>"
   ]
  },
  {
   "cell_type": "code",
   "execution_count": 1,
   "id": "da0a57d7-87fe-46bf-9dff-a031363c1275",
   "metadata": {},
   "outputs": [],
   "source": [
    "import pandas as pd"
   ]
  },
  {
   "cell_type": "code",
   "execution_count": 2,
   "id": "756e1b5d-83e7-4f5b-a51d-ba96cdb4190f",
   "metadata": {},
   "outputs": [],
   "source": [
    "file_1 = 't_sale.xlsx' \n",
    "file_2 = 't_products.xlsx'\n",
    "file_3 = 't_whs.xlsx' \n",
    "sale = pd.read_excel(file_1)\n",
    "products = pd.read_excel(file_2)\n",
    "whs = pd.read_excel(file_3)"
   ]
  },
  {
   "cell_type": "code",
   "execution_count": 3,
   "id": "06218ae4-72e3-4c9d-88cf-6d0c807a7a5b",
   "metadata": {},
   "outputs": [
    {
     "data": {
      "text/html": [
       "<div>\n",
       "<style scoped>\n",
       "    .dataframe tbody tr th:only-of-type {\n",
       "        vertical-align: middle;\n",
       "    }\n",
       "\n",
       "    .dataframe tbody tr th {\n",
       "        vertical-align: top;\n",
       "    }\n",
       "\n",
       "    .dataframe thead th {\n",
       "        text-align: right;\n",
       "    }\n",
       "</style>\n",
       "<table border=\"1\" class=\"dataframe\">\n",
       "  <thead>\n",
       "    <tr style=\"text-align: right;\">\n",
       "      <th></th>\n",
       "      <th>month</th>\n",
       "      <th>whs_id</th>\n",
       "      <th>product_id</th>\n",
       "      <th>quantity</th>\n",
       "      <th>sale</th>\n",
       "      <th>sale_cogs</th>\n",
       "    </tr>\n",
       "  </thead>\n",
       "  <tbody>\n",
       "    <tr>\n",
       "      <th>0</th>\n",
       "      <td>2</td>\n",
       "      <td>448</td>\n",
       "      <td>6553</td>\n",
       "      <td>9</td>\n",
       "      <td>958.950562</td>\n",
       "      <td>728.28</td>\n",
       "    </tr>\n",
       "    <tr>\n",
       "      <th>1</th>\n",
       "      <td>1</td>\n",
       "      <td>54</td>\n",
       "      <td>8370</td>\n",
       "      <td>2</td>\n",
       "      <td>121.800000</td>\n",
       "      <td>92.58</td>\n",
       "    </tr>\n",
       "  </tbody>\n",
       "</table>\n",
       "</div>"
      ],
      "text/plain": [
       "   month  whs_id  product_id  quantity        sale  sale_cogs\n",
       "0      2     448        6553         9  958.950562     728.28\n",
       "1      1      54        8370         2  121.800000      92.58"
      ]
     },
     "metadata": {},
     "output_type": "display_data"
    },
    {
     "data": {
      "text/html": [
       "<div>\n",
       "<style scoped>\n",
       "    .dataframe tbody tr th:only-of-type {\n",
       "        vertical-align: middle;\n",
       "    }\n",
       "\n",
       "    .dataframe tbody tr th {\n",
       "        vertical-align: top;\n",
       "    }\n",
       "\n",
       "    .dataframe thead th {\n",
       "        text-align: right;\n",
       "    }\n",
       "</style>\n",
       "<table border=\"1\" class=\"dataframe\">\n",
       "  <thead>\n",
       "    <tr style=\"text-align: right;\">\n",
       "      <th></th>\n",
       "      <th>product_id</th>\n",
       "      <th>level1</th>\n",
       "      <th>level2</th>\n",
       "      <th>name</th>\n",
       "    </tr>\n",
       "  </thead>\n",
       "  <tbody>\n",
       "    <tr>\n",
       "      <th>0</th>\n",
       "      <td>1</td>\n",
       "      <td>Toys for children 0 +</td>\n",
       "      <td>Interactive toys</td>\n",
       "      <td>Пирамидка</td>\n",
       "    </tr>\n",
       "    <tr>\n",
       "      <th>1</th>\n",
       "      <td>2</td>\n",
       "      <td>Toys for children 0 +</td>\n",
       "      <td>Interactive toys</td>\n",
       "      <td>Подушка-игрушка1</td>\n",
       "    </tr>\n",
       "  </tbody>\n",
       "</table>\n",
       "</div>"
      ],
      "text/plain": [
       "   product_id                 level1            level2              name\n",
       "0           1  Toys for children 0 +  Interactive toys         Пирамидка\n",
       "1           2  Toys for children 0 +  Interactive toys  Подушка-игрушка1"
      ]
     },
     "metadata": {},
     "output_type": "display_data"
    },
    {
     "data": {
      "text/html": [
       "<div>\n",
       "<style scoped>\n",
       "    .dataframe tbody tr th:only-of-type {\n",
       "        vertical-align: middle;\n",
       "    }\n",
       "\n",
       "    .dataframe tbody tr th {\n",
       "        vertical-align: top;\n",
       "    }\n",
       "\n",
       "    .dataframe thead th {\n",
       "        text-align: right;\n",
       "    }\n",
       "</style>\n",
       "<table border=\"1\" class=\"dataframe\">\n",
       "  <thead>\n",
       "    <tr style=\"text-align: right;\">\n",
       "      <th></th>\n",
       "      <th>whs_id</th>\n",
       "      <th>name</th>\n",
       "      <th>city_id</th>\n",
       "      <th>city</th>\n",
       "    </tr>\n",
       "  </thead>\n",
       "  <tbody>\n",
       "    <tr>\n",
       "      <th>0</th>\n",
       "      <td>1</td>\n",
       "      <td>СПБ 1</td>\n",
       "      <td>1</td>\n",
       "      <td>Санкт-Петербург</td>\n",
       "    </tr>\n",
       "    <tr>\n",
       "      <th>1</th>\n",
       "      <td>2</td>\n",
       "      <td>СПБ 2</td>\n",
       "      <td>1</td>\n",
       "      <td>Санкт-Петербург</td>\n",
       "    </tr>\n",
       "  </tbody>\n",
       "</table>\n",
       "</div>"
      ],
      "text/plain": [
       "   whs_id   name  city_id             city\n",
       "0       1  СПБ 1        1  Санкт-Петербург\n",
       "1       2  СПБ 2        1  Санкт-Петербург"
      ]
     },
     "metadata": {},
     "output_type": "display_data"
    }
   ],
   "source": [
    "display(sale.head(2))\n",
    "display(products.head(2))\n",
    "display(whs.head(2))"
   ]
  },
  {
   "cell_type": "markdown",
   "id": "33107437-b6d6-45e2-84c0-db89f10838a7",
   "metadata": {},
   "source": [
    "<div style=\"border:solid black 2px; padding: 20px\">\n",
    "\n",
    "## Объединение таблиц.\n",
    "\n",
    "</div>"
   ]
  },
  {
   "cell_type": "code",
   "execution_count": 4,
   "id": "daebc48a-0289-469d-bd80-b9c52f8a6b54",
   "metadata": {},
   "outputs": [
    {
     "data": {
      "text/html": [
       "<div>\n",
       "<style scoped>\n",
       "    .dataframe tbody tr th:only-of-type {\n",
       "        vertical-align: middle;\n",
       "    }\n",
       "\n",
       "    .dataframe tbody tr th {\n",
       "        vertical-align: top;\n",
       "    }\n",
       "\n",
       "    .dataframe thead th {\n",
       "        text-align: right;\n",
       "    }\n",
       "</style>\n",
       "<table border=\"1\" class=\"dataframe\">\n",
       "  <thead>\n",
       "    <tr style=\"text-align: right;\">\n",
       "      <th></th>\n",
       "      <th>month</th>\n",
       "      <th>whs_id</th>\n",
       "      <th>product_id</th>\n",
       "      <th>quantity</th>\n",
       "      <th>sale</th>\n",
       "      <th>sale_cogs</th>\n",
       "      <th>level1</th>\n",
       "      <th>level2</th>\n",
       "      <th>name_x</th>\n",
       "      <th>name_y</th>\n",
       "      <th>city_id</th>\n",
       "      <th>city</th>\n",
       "    </tr>\n",
       "  </thead>\n",
       "  <tbody>\n",
       "    <tr>\n",
       "      <th>0</th>\n",
       "      <td>2</td>\n",
       "      <td>448</td>\n",
       "      <td>6553</td>\n",
       "      <td>9</td>\n",
       "      <td>958.950562</td>\n",
       "      <td>728.28</td>\n",
       "      <td>Crafts and Painting kits</td>\n",
       "      <td>Stickers</td>\n",
       "      <td>Наклейка11</td>\n",
       "      <td>СПБ 55</td>\n",
       "      <td>1</td>\n",
       "      <td>Санкт-Петербург</td>\n",
       "    </tr>\n",
       "    <tr>\n",
       "      <th>1</th>\n",
       "      <td>1</td>\n",
       "      <td>54</td>\n",
       "      <td>8370</td>\n",
       "      <td>2</td>\n",
       "      <td>121.800000</td>\n",
       "      <td>92.58</td>\n",
       "      <td>Swimwear</td>\n",
       "      <td>Swimsuit</td>\n",
       "      <td>Трикини_2</td>\n",
       "      <td>МСК 17</td>\n",
       "      <td>2</td>\n",
       "      <td>Москва</td>\n",
       "    </tr>\n",
       "  </tbody>\n",
       "</table>\n",
       "</div>"
      ],
      "text/plain": [
       "   month  whs_id  product_id  quantity        sale  sale_cogs  \\\n",
       "0      2     448        6553         9  958.950562     728.28   \n",
       "1      1      54        8370         2  121.800000      92.58   \n",
       "\n",
       "                     level1    level2      name_x  name_y  city_id  \\\n",
       "0  Crafts and Painting kits  Stickers  Наклейка11  СПБ 55        1   \n",
       "1                  Swimwear  Swimsuit   Трикини_2  МСК 17        2   \n",
       "\n",
       "              city  \n",
       "0  Санкт-Петербург  \n",
       "1           Москва  "
      ]
     },
     "execution_count": 4,
     "metadata": {},
     "output_type": "execute_result"
    }
   ],
   "source": [
    "data = sale.merge(products, how='left', on='product_id')\n",
    "data = data.merge(whs, how='left', on='whs_id')\n",
    "data.head(2)"
   ]
  },
  {
   "cell_type": "markdown",
   "id": "7042c5ab-029b-4e72-91f2-95d48ad1cdb3",
   "metadata": {},
   "source": [
    "<div style=\"border:solid black 2px; padding: 20px\">\n",
    "\n",
    "## Какая Выручка была в Феврале в Москве?\n",
    "\n",
    "</div>"
   ]
  },
  {
   "cell_type": "code",
   "execution_count": 5,
   "id": "4ff9b8e5-ca99-4309-add9-1d6904f24b52",
   "metadata": {},
   "outputs": [
    {
     "data": {
      "text/html": [
       "<div>\n",
       "<style scoped>\n",
       "    .dataframe tbody tr th:only-of-type {\n",
       "        vertical-align: middle;\n",
       "    }\n",
       "\n",
       "    .dataframe tbody tr th {\n",
       "        vertical-align: top;\n",
       "    }\n",
       "\n",
       "    .dataframe thead th {\n",
       "        text-align: right;\n",
       "    }\n",
       "</style>\n",
       "<table border=\"1\" class=\"dataframe\">\n",
       "  <thead>\n",
       "    <tr style=\"text-align: right;\">\n",
       "      <th></th>\n",
       "      <th></th>\n",
       "      <th>sale</th>\n",
       "    </tr>\n",
       "    <tr>\n",
       "      <th>city</th>\n",
       "      <th>month</th>\n",
       "      <th></th>\n",
       "    </tr>\n",
       "  </thead>\n",
       "  <tbody>\n",
       "    <tr>\n",
       "      <th>Москва</th>\n",
       "      <th>2</th>\n",
       "      <td>41670934.0</td>\n",
       "    </tr>\n",
       "  </tbody>\n",
       "</table>\n",
       "</div>"
      ],
      "text/plain": [
       "                    sale\n",
       "city   month            \n",
       "Москва 2      41670934.0"
      ]
     },
     "execution_count": 5,
     "metadata": {},
     "output_type": "execute_result"
    }
   ],
   "source": [
    "data.query('city == \"Москва\" and month == 2')\\\n",
    "    .pivot_table(index=['city', 'month'], values='sale', aggfunc='sum').round()"
   ]
  },
  {
   "cell_type": "markdown",
   "id": "89acec10-140d-49c0-94d0-7f2c071c6578",
   "metadata": {},
   "source": [
    "<div style=\"border:solid green 2px; padding: 20px\">\n",
    "\n",
    "Выручка в феврале в Москве: 41.670.934 руб.\n",
    "\n",
    "</div>"
   ]
  },
  {
   "cell_type": "markdown",
   "id": "a8761266-126e-4789-9673-2711af84b907",
   "metadata": {},
   "source": [
    "<div style=\"border:solid black 2px; padding: 20px\">\n",
    "\n",
    "## По какой категории были наибольшие продажи в шт в Санкт-Петербурге в Январе?\n",
    "\n",
    "</div>"
   ]
  },
  {
   "cell_type": "code",
   "execution_count": 6,
   "id": "fb673de1-e629-4fcd-87c0-1e451c6db307",
   "metadata": {},
   "outputs": [
    {
     "data": {
      "text/html": [
       "<div>\n",
       "<style scoped>\n",
       "    .dataframe tbody tr th:only-of-type {\n",
       "        vertical-align: middle;\n",
       "    }\n",
       "\n",
       "    .dataframe tbody tr th {\n",
       "        vertical-align: top;\n",
       "    }\n",
       "\n",
       "    .dataframe thead th {\n",
       "        text-align: right;\n",
       "    }\n",
       "</style>\n",
       "<table border=\"1\" class=\"dataframe\">\n",
       "  <thead>\n",
       "    <tr style=\"text-align: right;\">\n",
       "      <th></th>\n",
       "      <th>city</th>\n",
       "      <th>month</th>\n",
       "      <th>level1</th>\n",
       "      <th>quantity</th>\n",
       "      <th>sale</th>\n",
       "    </tr>\n",
       "  </thead>\n",
       "  <tbody>\n",
       "    <tr>\n",
       "      <th>4</th>\n",
       "      <td>Санкт-Петербург</td>\n",
       "      <td>1</td>\n",
       "      <td>Bijou</td>\n",
       "      <td>52300</td>\n",
       "      <td>3353660.0</td>\n",
       "    </tr>\n",
       "  </tbody>\n",
       "</table>\n",
       "</div>"
      ],
      "text/plain": [
       "              city  month level1  quantity       sale\n",
       "4  Санкт-Петербург      1  Bijou     52300  3353660.0"
      ]
     },
     "execution_count": 6,
     "metadata": {},
     "output_type": "execute_result"
    }
   ],
   "source": [
    "top_level = data.query('city == \"Санкт-Петербург\" and month == 1')\\\n",
    "           .pivot_table(index=['city', 'month', 'level1'], values=['quantity', 'sale'], aggfunc='sum')\\\n",
    "           .reset_index().sort_values(by='quantity', ascending=False).round()\n",
    "top_level.head(1)"
   ]
  },
  {
   "cell_type": "markdown",
   "id": "dc9a2be4-a004-4065-b259-b560e62431f9",
   "metadata": {},
   "source": [
    "<div style=\"border:solid green 2px; padding: 20px\">\n",
    "\n",
    "В январе в Санкт-Петербурге были наибольшие продажи в шт в категории Bijou (Ювелирные изделия).\n",
    "\n",
    "</div>"
   ]
  },
  {
   "cell_type": "markdown",
   "id": "aa87d43c-2ef8-4f77-8f0a-7e32a03659ec",
   "metadata": {},
   "source": [
    "<div style=\"border:solid black 2px; padding: 20px\">\n",
    "\n",
    "## Какая доля продаж в общем обороте Санкт-Петербурга в январе по категории из пункта 2?\n",
    "\n",
    "</div>"
   ]
  },
  {
   "cell_type": "code",
   "execution_count": 7,
   "id": "16d99b83-88cc-41e0-bf1c-decc151a95c9",
   "metadata": {},
   "outputs": [
    {
     "data": {
      "text/html": [
       "<div>\n",
       "<style scoped>\n",
       "    .dataframe tbody tr th:only-of-type {\n",
       "        vertical-align: middle;\n",
       "    }\n",
       "\n",
       "    .dataframe tbody tr th {\n",
       "        vertical-align: top;\n",
       "    }\n",
       "\n",
       "    .dataframe thead th {\n",
       "        text-align: right;\n",
       "    }\n",
       "</style>\n",
       "<table border=\"1\" class=\"dataframe\">\n",
       "  <thead>\n",
       "    <tr style=\"text-align: right;\">\n",
       "      <th></th>\n",
       "      <th>city</th>\n",
       "      <th>month</th>\n",
       "      <th>level1</th>\n",
       "      <th>quantity</th>\n",
       "      <th>sale</th>\n",
       "      <th>percent_quantity</th>\n",
       "      <th>percent_sale</th>\n",
       "    </tr>\n",
       "  </thead>\n",
       "  <tbody>\n",
       "    <tr>\n",
       "      <th>4</th>\n",
       "      <td>Санкт-Петербург</td>\n",
       "      <td>1</td>\n",
       "      <td>Bijou</td>\n",
       "      <td>52300</td>\n",
       "      <td>3353660.0</td>\n",
       "      <td>5.3%</td>\n",
       "      <td>4.5%</td>\n",
       "    </tr>\n",
       "  </tbody>\n",
       "</table>\n",
       "</div>"
      ],
      "text/plain": [
       "              city  month level1  quantity       sale percent_quantity  \\\n",
       "4  Санкт-Петербург      1  Bijou     52300  3353660.0             5.3%   \n",
       "\n",
       "  percent_sale  \n",
       "4         4.5%  "
      ]
     },
     "execution_count": 7,
     "metadata": {},
     "output_type": "execute_result"
    }
   ],
   "source": [
    "top_level['percent_quantity'] = round((top_level['quantity']\n",
    "                       /top_level['quantity'].sum()) * 100, 1)\n",
    "top_level['percent_quantity'] = top_level['percent_quantity'].map('{:,.1f}%'.format)\n",
    "\n",
    "top_level['percent_sale'] = round((top_level['sale']\n",
    "                       /top_level['sale'].sum()) * 100, 1)\n",
    "top_level['percent_sale'] = top_level['percent_sale'].map('{:,.1f}%'.format)\n",
    "\n",
    "top_level.head(1)"
   ]
  },
  {
   "cell_type": "markdown",
   "id": "38862cc4-39c4-4f6b-9f1e-d76967e20504",
   "metadata": {},
   "source": [
    "<div style=\"border:solid green 2px; padding: 20px\">\n",
    "\n",
    "Доля продаж в общем обороте Санкт-Петербурга в январе по категории Bijou:\n",
    "* в рублях 4.5\\%\n",
    "* в штуках 5.3\\%\n",
    "\n",
    "</div>"
   ]
  },
  {
   "cell_type": "markdown",
   "id": "e5e204ce-4ca1-4f5c-ab28-f7e651ca1e4a",
   "metadata": {},
   "source": [
    "<div style=\"border:solid black 2px; padding: 20px\">\n",
    "\n",
    "## Какая позиция имеет наибольшую цену в категории из пункта 2 в январе в Санкт-Петербурге?\n",
    "\n",
    "</div>"
   ]
  },
  {
   "cell_type": "code",
   "execution_count": 8,
   "id": "546d9659-dc2d-475f-89c6-169832edead5",
   "metadata": {},
   "outputs": [
    {
     "data": {
      "text/html": [
       "<div>\n",
       "<style scoped>\n",
       "    .dataframe tbody tr th:only-of-type {\n",
       "        vertical-align: middle;\n",
       "    }\n",
       "\n",
       "    .dataframe tbody tr th {\n",
       "        vertical-align: top;\n",
       "    }\n",
       "\n",
       "    .dataframe thead th {\n",
       "        text-align: right;\n",
       "    }\n",
       "</style>\n",
       "<table border=\"1\" class=\"dataframe\">\n",
       "  <thead>\n",
       "    <tr style=\"text-align: right;\">\n",
       "      <th></th>\n",
       "      <th>level1</th>\n",
       "      <th>level2</th>\n",
       "      <th>product_id</th>\n",
       "      <th>name_x</th>\n",
       "      <th>quantity</th>\n",
       "      <th>sale</th>\n",
       "      <th>avg_price</th>\n",
       "    </tr>\n",
       "  </thead>\n",
       "  <tbody>\n",
       "    <tr>\n",
       "      <th>85</th>\n",
       "      <td>Bijou</td>\n",
       "      <td>Ring</td>\n",
       "      <td>920</td>\n",
       "      <td>Кольцо_21111111111</td>\n",
       "      <td>12</td>\n",
       "      <td>14894.0</td>\n",
       "      <td>1241.0</td>\n",
       "    </tr>\n",
       "  </tbody>\n",
       "</table>\n",
       "</div>"
      ],
      "text/plain": [
       "   level1 level2  product_id              name_x  quantity     sale  avg_price\n",
       "85  Bijou   Ring         920  Кольцо_21111111111        12  14894.0     1241.0"
      ]
     },
     "execution_count": 8,
     "metadata": {},
     "output_type": "execute_result"
    }
   ],
   "source": [
    "data_price = data.query('city == \"Санкт-Петербург\" and month == 1 and level1 == \"Bijou\"')\n",
    "data_price = data_price.pivot_table(index = ['level1', 'level2', 'product_id', 'name_x'],\n",
    "                                   values=['sale', 'quantity'], aggfunc='sum')\\\n",
    "                      .reset_index()\n",
    "data_price['avg_price'] = round(data_price['sale'] / data_price['quantity'], 0)\n",
    "data_price['sale'] = data_price['sale'].round(0)\n",
    "\n",
    "data_price.sort_values(by = 'avg_price', ascending=False).head(1)"
   ]
  },
  {
   "cell_type": "markdown",
   "id": "045f6869-fc31-4833-982a-0f67b31fc7b3",
   "metadata": {},
   "source": [
    "<div style=\"border:solid green 2px; padding: 20px\">\n",
    "\n",
    "В Санкт-Петербурге в январе в категории Bijou позиция с наибольшей ценой:\n",
    "\n",
    "Кольцо_21111111111: 1241 руб.\n",
    "\n",
    "</div>"
   ]
  },
  {
   "cell_type": "markdown",
   "id": "95109c0a-d526-4347-83d8-c62065284111",
   "metadata": {},
   "source": [
    "<div style=\"border:solid black 2px; padding: 20px\">\n",
    "\n",
    "## Какая маржа в руб и % по позиции из пункта 4 в Санкт-Петербурге в Январе ?\n",
    "\n",
    "</div>"
   ]
  },
  {
   "cell_type": "code",
   "execution_count": 9,
   "id": "a7e44019-5c88-43bf-92c7-71559ed94e64",
   "metadata": {},
   "outputs": [
    {
     "data": {
      "text/html": [
       "<div>\n",
       "<style scoped>\n",
       "    .dataframe tbody tr th:only-of-type {\n",
       "        vertical-align: middle;\n",
       "    }\n",
       "\n",
       "    .dataframe tbody tr th {\n",
       "        vertical-align: top;\n",
       "    }\n",
       "\n",
       "    .dataframe thead th {\n",
       "        text-align: right;\n",
       "    }\n",
       "</style>\n",
       "<table border=\"1\" class=\"dataframe\">\n",
       "  <thead>\n",
       "    <tr style=\"text-align: right;\">\n",
       "      <th></th>\n",
       "      <th></th>\n",
       "      <th>quantity</th>\n",
       "      <th>sale</th>\n",
       "      <th>sale_cogs</th>\n",
       "      <th>margin</th>\n",
       "      <th>margin_%</th>\n",
       "      <th>margin_of_one</th>\n",
       "    </tr>\n",
       "    <tr>\n",
       "      <th>name_x</th>\n",
       "      <th>product_id</th>\n",
       "      <th></th>\n",
       "      <th></th>\n",
       "      <th></th>\n",
       "      <th></th>\n",
       "      <th></th>\n",
       "      <th></th>\n",
       "    </tr>\n",
       "  </thead>\n",
       "  <tbody>\n",
       "    <tr>\n",
       "      <th>Кольцо_21111111111</th>\n",
       "      <th>920</th>\n",
       "      <td>12</td>\n",
       "      <td>14893.9</td>\n",
       "      <td>11296.7</td>\n",
       "      <td>3597.2</td>\n",
       "      <td>24.15</td>\n",
       "      <td>299.77</td>\n",
       "    </tr>\n",
       "  </tbody>\n",
       "</table>\n",
       "</div>"
      ],
      "text/plain": [
       "                               quantity     sale  sale_cogs  margin  margin_%  \\\n",
       "name_x             product_id                                                   \n",
       "Кольцо_21111111111 920               12  14893.9    11296.7  3597.2     24.15   \n",
       "\n",
       "                               margin_of_one  \n",
       "name_x             product_id                 \n",
       "Кольцо_21111111111 920                299.77  "
      ]
     },
     "execution_count": 9,
     "metadata": {},
     "output_type": "execute_result"
    }
   ],
   "source": [
    "margin = data.query('city == \"Санкт-Петербург\" and month == 1 and name_x == \"Кольцо_21111111111\"')\\\n",
    "             .pivot_table(index=['name_x', 'product_id'], values=['sale', 'sale_cogs', 'quantity'], aggfunc='sum')\\\n",
    "             .round(1)\n",
    "margin['margin'] = margin['sale'] - margin['sale_cogs'].round(2)\n",
    "margin['margin_%'] = round(margin['margin'] / margin['sale'] * 100, 2)\n",
    "margin['margin_of_one'] = round(margin['margin'] / margin['quantity'], 2)\n",
    "margin"
   ]
  },
  {
   "cell_type": "markdown",
   "id": "64fe37a0-3bca-47bf-8f9d-cce155005d46",
   "metadata": {},
   "source": [
    "<div style=\"border:solid green 2px; padding: 20px\">\n",
    "\n",
    "В Санкт-Петербурге в январе маржа товара id 920 Кольцо_21111111111:\n",
    "* 3597 руб.\n",
    "* 24.15\\%\n",
    "* за 1 шт 299.77 руб.\n",
    "\n",
    "</div>"
   ]
  },
  {
   "cell_type": "markdown",
   "id": "33a36826-d2e8-4f01-bdcf-64d3d0dc64d3",
   "metadata": {},
   "source": [
    "<div style=\"border:solid black 2px; padding: 20px\">\n",
    "\n",
    "## Как изменится цена продажи позиции из пункта 4, если увеличить маржу на 5\\%?\n",
    "\n",
    "</div>"
   ]
  },
  {
   "cell_type": "code",
   "execution_count": 10,
   "id": "74dd66a7-b172-4a9e-9a8c-8d617c1c82e6",
   "metadata": {},
   "outputs": [
    {
     "data": {
      "text/html": [
       "<div>\n",
       "<style scoped>\n",
       "    .dataframe tbody tr th:only-of-type {\n",
       "        vertical-align: middle;\n",
       "    }\n",
       "\n",
       "    .dataframe tbody tr th {\n",
       "        vertical-align: top;\n",
       "    }\n",
       "\n",
       "    .dataframe thead th {\n",
       "        text-align: right;\n",
       "    }\n",
       "</style>\n",
       "<table border=\"1\" class=\"dataframe\">\n",
       "  <thead>\n",
       "    <tr style=\"text-align: right;\">\n",
       "      <th></th>\n",
       "      <th>name_x</th>\n",
       "      <th>price_new</th>\n",
       "      <th>avg_price</th>\n",
       "      <th>diff_price%</th>\n",
       "    </tr>\n",
       "  </thead>\n",
       "  <tbody>\n",
       "    <tr>\n",
       "      <th>0</th>\n",
       "      <td>Кольцо_21111111111</td>\n",
       "      <td>1256.0</td>\n",
       "      <td>1241.0</td>\n",
       "      <td>1.2</td>\n",
       "    </tr>\n",
       "  </tbody>\n",
       "</table>\n",
       "</div>"
      ],
      "text/plain": [
       "               name_x  price_new  avg_price  diff_price%\n",
       "0  Кольцо_21111111111     1256.0     1241.0          1.2"
      ]
     },
     "execution_count": 10,
     "metadata": {},
     "output_type": "execute_result"
    }
   ],
   "source": [
    "# ниже расчет средней цены, по которой надо продавать товар, чтобы маржа увеличилась на 5%\n",
    "growth = 0.05\n",
    "margin['margin_of_one_new'] = round(margin['margin_of_one'] * (1 + growth), 2)\n",
    "margin['price_new'] = round(margin['margin_of_one_new']\n",
    "                            + (margin['sale_cogs'] / margin['quantity']), 0)\n",
    "margin['avg_price'] = round(margin['sale'] / margin['quantity'], 0)\n",
    "margin['diff_price%'] = ((margin['price_new'] / margin['avg_price'] - 1) * 100)\n",
    "\n",
    "margin.reset_index()[['name_x', 'price_new', 'avg_price', 'diff_price%']].round(1)"
   ]
  },
  {
   "cell_type": "markdown",
   "id": "e7e4ded7-efbf-4559-b539-b760095520e6",
   "metadata": {},
   "source": [
    "<div style=\"border:solid green 2px; padding: 20px\">\n",
    "\n",
    "Если мы хотим увеличить у позиции Кольцо_21111111111 маржу на 5\\%, то цена продажи должна быть 1256р. Это на 1.2\\% выше текущей средней цены продажи.\n",
    "\n",
    "</div>"
   ]
  }
 ],
 "metadata": {
  "kernelspec": {
   "display_name": "Python 3 (ipykernel)",
   "language": "python",
   "name": "python3"
  },
  "language_info": {
   "codemirror_mode": {
    "name": "ipython",
    "version": 3
   },
   "file_extension": ".py",
   "mimetype": "text/x-python",
   "name": "python",
   "nbconvert_exporter": "python",
   "pygments_lexer": "ipython3",
   "version": "3.11.7"
  }
 },
 "nbformat": 4,
 "nbformat_minor": 5
}
